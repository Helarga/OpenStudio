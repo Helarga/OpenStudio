{
 "cells": [
  {
   "cell_type": "code",
   "execution_count": null,
   "id": "76bece26",
   "metadata": {},
   "outputs": [],
   "source": [
    "from pathlib import Path\n",
    "import json\n",
    "import subprocess\n",
    "import shlex"
   ]
  },
  {
   "cell_type": "markdown",
   "id": "fa4e50ef",
   "metadata": {},
   "source": [
    "# Step 1: Clean cache\n",
    "\n",
    "What I did was to set a new conan cache\n",
    "\n",
    "```shell\n",
    "mkdir ~/.conan/bump_deps\n",
    "conan config set storage.path=\"./bump_deps\" \n",
    "```\n",
    "\n",
    "Then I cmake-configured a Release and a Debug build on the M1 mac (so it'll pick up most of build dependencies too since packages aren't readily available)"
   ]
  },
  {
   "cell_type": "markdown",
   "id": "c76b4072",
   "metadata": {},
   "source": [
    "# Supporting Classes"
   ]
  },
  {
   "cell_type": "code",
   "execution_count": null,
   "id": "fa2261de",
   "metadata": {},
   "outputs": [],
   "source": [
    "class PkgInfo:\n",
    "    \n",
    "    @staticmethod\n",
    "    def from_metadata(metadata_path):\n",
    "        \n",
    "        name, version, user, channel = p.relative_to(CONAN_CACHE).parent.parts\n",
    "        \n",
    "        with open(p, 'r') as f:\n",
    "            data = json.load(f)\n",
    "            revision = data['recipe']['revision']\n",
    "            \n",
    "        return PkgInfo(name=name, version=version, user=user, channel=channel, revision=revision)\n",
    "\n",
    "    def __init__(self, name, version, user, channel, revision):\n",
    "        self.name = name\n",
    "        self.version = version\n",
    "        self.user = None\n",
    "        if user is not None and user != '_':\n",
    "            self.user = user\n",
    "        self.channel = None\n",
    "        if channel is not None and channel != '_':\n",
    "            self.channel = channel\n",
    "            \n",
    "        self.revision = revision\n",
    "\n",
    "        self.remote = 'conancenter'\n",
    "        if self.name == 'ruby_installer':\n",
    "            self.remote = 'bincrafters'\n",
    "        elif self.name == 'openstudio_ruby':\n",
    "            self.remote = 'nrel'\n",
    "            \n",
    "        \n",
    "    def search_packages(self):\n",
    "        \"\"\"Filters out packages (such as Windows MSVC 15)\n",
    "        \n",
    "        TODO: improvement: remove recipes with shared=True?\n",
    "        \"\"\"\n",
    "        json_p = Path(f'{self.name}.json')\n",
    "        subprocess.check_call(shlex.split(f\"conan search -r {self.remote} {self.reference()} --json {json_p}\"),\n",
    "                              stderr=subprocess.DEVNULL, stdout=subprocess.DEVNULL)\n",
    "        with open(json_p, 'r') as f:\n",
    "            data = json.load(f)\n",
    "        json_p.unlink(missing_ok=False) # remove tmp json\n",
    "        \n",
    "        packages = data['results'][0]['items'][0]['packages']\n",
    "        keep_packages = []\n",
    "        skipped_packages = []\n",
    "        for p in packages:\n",
    "            settings = p['settings']\n",
    "            os_ = settings.get('os', None)\n",
    "            compiler_version = settings.get('compiler.version', None)\n",
    "            compiler = settings.get('compiler', None)\n",
    "            libcxx  = settings.get('compiler.libcxx', None)\n",
    "            \n",
    "            if os_ == 'Windows':\n",
    "                if compiler_version not in ['16', '17', None]:\n",
    "                    print(f\"Skipping Windows {compiler_version=} for pkg {self.name}\")\n",
    "                    skipped_packages.append(p)\n",
    "                    continue\n",
    "                \n",
    "                runtime = settings.get('compiler.runtime', None)\n",
    "                if runtime not in ['MD', 'MDd', None]:\n",
    "                    print(f\"Skipping Windows {runtime=} for pkg {self.name}\")\n",
    "                    skipped_packages.append(p)\n",
    "                    continue\n",
    "            elif os_ == 'Linux':\n",
    "                \n",
    "                if compiler not in ['gcc', 'clang', None]:\n",
    "                    print(f\"Skipping Linux {compiler=} for pkg {self.name}\")\n",
    "                    skipped_packages.append(p)\n",
    "                    continue\n",
    "                    \n",
    "                if libcxx not in ['libstdc++11', 'libc++', None]:\n",
    "                    print(f\"Skipping Linux {libcxx=} for pkg {self.name} with ({compiler=})\")\n",
    "                    skipped_packages.append(p)\n",
    "                    continue\n",
    "                    \n",
    "                if compiler == 'gcc':\n",
    "                    if compiler_version not in ['7', '8', '9', '10', '11', '12', None]:\n",
    "                        print(f\"Skipping Linux gcc {compiler_version=} for pkg {self.name}\")\n",
    "                \n",
    "            elif os_ == 'Macos':\n",
    "                if libcxx not in ['libc++', None]:\n",
    "                    print(f\"Skipping Macos {libcxx=} for pkg {self.name} with ({compiler=})\")\n",
    "                    skipped_packages.append(p)\n",
    "                    continue\n",
    "            elif os_ is None:\n",
    "                pass\n",
    "            else:\n",
    "                print(\"Unknown os: {os_}\")\n",
    "                skipped_packages.append(p)\n",
    "                continue\n",
    "                \n",
    "            keep_packages.append(p)\n",
    "            \n",
    "        return keep_packages, skipped_packages\n",
    "\n",
    "    def download_all(self):\n",
    "        subprocess.check_call(\n",
    "            ['conan', 'download', '-r', self.remote, self.reference()],\n",
    "            # stderr=subprocess.DEVNULL, stdout=subprocess.DEVNULL\n",
    "        )\n",
    "        \n",
    "    def download_specific_packages(self):\n",
    "        \"\"\"Filters out the stuff we don't need by calling `search_packages`\n",
    "        \"\"\"\n",
    "        packages, _ = self.search_packages()\n",
    "        \n",
    "        for p_dict in packages:\n",
    "            print(p_dict)\n",
    "            pkg_id = p_dict['id']\n",
    "            subprocess.check_call(\n",
    "                ['conan', 'download', '-r', self.remote, f\"{self.reference()}:{pkg_id}\"],\n",
    "                #stderr=subprocess.DEVNULL, stdout=subprocess.DEVNULL\n",
    "            )\n",
    "        \n",
    "    def upload_to_nrel(self):\n",
    "        subprocess.check_call(\n",
    "            ['conan', 'upload', '-r', 'nrel', '--all', '--parallel',\n",
    "             '--no-overwrite', 'all', self.reference()],\n",
    "            # stderr=subprocess.DEVNULL, stdout=subprocess.DEVNULL\n",
    "        )\n",
    "        \n",
    "    def package_dir(self):\n",
    "        p = CONAN_CACHE / f\"{self.name}/{self.version}\"\n",
    "        if self.user is not None:\n",
    "            p /= f\"{self.user}/{self.channel}\"\n",
    "        else:\n",
    "            p /= \"_/_\"\n",
    "        p /= 'package'\n",
    "        return p\n",
    "    \n",
    "    def cleanup_skipped_packages(self, remote=None):\n",
    "        \"\"\"if remote is none, cleans up your local cache\"\"\"\n",
    "        _, skipped_packages = self.search_packages()\n",
    "        for p_dict in skipped_packages:\n",
    "            pkg_id = p_dict['id']\n",
    "            cmd_args = ['conan', 'remove', '-f', self.reference(), '-p', pkg_id]\n",
    "            if remote is not None:\n",
    "                cmd_args += ['-r', remote]\n",
    "                \n",
    "            subprocess.run(cmd_args)\n",
    "    \n",
    "    def reference(self):\n",
    "        s = f\"{self.name}/{self.version}@\"\n",
    "        if self.user is not None:\n",
    "            s += f\"{self.user}/{self.channel}\"\n",
    "        s += f\"#{self.revision}\"\n",
    "        return s\n",
    "    \n",
    "    def __repr__(self):\n",
    "        return self.reference()\n",
    "    \n",
    "    def __eq__(self, other):\n",
    "        return self.reference() == other.reference()"
   ]
  },
  {
   "cell_type": "raw",
   "id": "f23203ff",
   "metadata": {},
   "source": [
    "query_by_os = {\n",
    "    'Windows' : {'compiler.version' : [16, 17]}\n",
    "    'Macos': None,\n",
    "    'Linux':  {\n",
    "        'compiler': 'gcc',\n",
    "        'compiler.version': [7, 8, 9, 10, 11]\n",
    "    },\n",
    "}\n",
    "base_query = -q \"(os=Windows AND (compiler.version=16 OR compiler.version=17)) OR (os=Macos) OR (os=Linux AND compiler=gcc AND compiler.libcxx=libstdc++ AND (compiler.version=7 OR compiler.version=8 OR compiler.version=9 OR compiler.version=10 OR compiler.version=11))\""
   ]
  },
  {
   "cell_type": "markdown",
   "id": "a807e974",
   "metadata": {},
   "source": [
    "# Download packages"
   ]
  },
  {
   "cell_type": "markdown",
   "id": "4fafbb4b",
   "metadata": {},
   "source": [
    "## Parse my local cache"
   ]
  },
  {
   "cell_type": "code",
   "execution_count": null,
   "id": "01b4de5e",
   "metadata": {},
   "outputs": [],
   "source": [
    "CONAN_CACHE = Path('/Users/julien/.conan/bump_deps/')\n",
    "\n",
    "pkg_infos = []\n",
    "for p in CONAN_CACHE.glob('**/metadata.json'):\n",
    "    pkg_infos.append(PkgInfo.from_metadata(p))\n",
    "pkg_infos.sort(key=lambda p: p.name)"
   ]
  },
  {
   "cell_type": "code",
   "execution_count": null,
   "id": "0314917b",
   "metadata": {},
   "outputs": [],
   "source": [
    "len(pkg_infos)"
   ]
  },
  {
   "cell_type": "markdown",
   "id": "eac94ddf",
   "metadata": {},
   "source": [
    "## Compare packages I have in my cache with the conan.lock produced when building OS"
   ]
  },
  {
   "cell_type": "code",
   "execution_count": null,
   "id": "046ec2fc",
   "metadata": {},
   "outputs": [],
   "source": [
    "conan_lock = '/Users/julien/Software/Others/OS-build-bump/conan.lock'\n",
    "with open(conan_lock, 'r') as f:\n",
    "    conan_lock_data = json.load(f)"
   ]
  },
  {
   "cell_type": "code",
   "execution_count": null,
   "id": "b850210f",
   "metadata": {},
   "outputs": [],
   "source": [
    "conan_lock_data.keys()"
   ]
  },
  {
   "cell_type": "code",
   "execution_count": null,
   "id": "8739d69a",
   "metadata": {},
   "outputs": [],
   "source": [
    "pkg_infos_lock = []\n",
    "for k, node in conan_lock_data['graph_lock']['nodes'].items():\n",
    "    if not 'ref' in node:\n",
    "        print(f\"{k=} has no ref (it's node 0, that's normal)\")\n",
    "        continue\n",
    "    n, revision = node['ref'].split('#')\n",
    "    split = n.split('/')\n",
    "    if len(split) == 2:\n",
    "        name, version = split\n",
    "        user, channel = (None, None)\n",
    "    elif len(split) == 3:\n",
    "        name, version_user, channel = split\n",
    "        version, user = version_user.split('@')\n",
    "    else:\n",
    "        raise ValueError(f\"Wrong size: {split}\")\n",
    "    pkg_infos_lock.append(PkgInfo(name=name, version=version, user=user, channel=channel, revision=revision))"
   ]
  },
  {
   "cell_type": "code",
   "execution_count": null,
   "id": "090f14fe",
   "metadata": {},
   "outputs": [],
   "source": [
    "pkg_infos_lock"
   ]
  },
  {
   "cell_type": "code",
   "execution_count": null,
   "id": "abd09996",
   "metadata": {},
   "outputs": [],
   "source": [
    "set(x.reference() for x in pkg_infos) - set(x.reference() for x in pkg_infos_lock)"
   ]
  },
  {
   "cell_type": "code",
   "execution_count": null,
   "id": "f5556d16",
   "metadata": {},
   "outputs": [],
   "source": [
    "set(x.reference() for x in pkg_infos_lock) - set(x.reference() for x in pkg_infos)"
   ]
  },
  {
   "cell_type": "markdown",
   "id": "2d3c2b2d",
   "metadata": {},
   "source": [
    "## Download all packages"
   ]
  },
  {
   "cell_type": "code",
   "execution_count": null,
   "id": "5b8124ff",
   "metadata": {
    "scrolled": false
   },
   "outputs": [],
   "source": [
    "for pkg_info in pkg_infos:\n",
    "    if pkg_info.name == 'openstudio_ruby':\n",
    "        continue\n",
    "        \n",
    "    # if pkg_info.name != 'ruby_installer':\n",
    "    #     continue\n",
    "    print(pkg_info.name)\n",
    "    #keep_packages, skip_packages = pkg_info.search_packages()\n",
    "    # pkg_info.download_specific_packages()\n",
    "    \n",
    "    # Download all has the benefit of running in parallel... so it's faster\n",
    "    # We'll clean it up later\n",
    "    pkg_info.download_all()\n",
    "    print(\"\\n\")"
   ]
  },
  {
   "cell_type": "markdown",
   "id": "fd8d35ce",
   "metadata": {},
   "source": [
    "## Clean up my local cache to remove unwanted packages"
   ]
  },
  {
   "cell_type": "code",
   "execution_count": null,
   "id": "fc38f4e9",
   "metadata": {},
   "outputs": [],
   "source": [
    "for pkg_info in pkg_infos:\n",
    "    if pkg_info.name == 'openstudio_ruby':\n",
    "        continue\n",
    "        \n",
    "    if pkg_info.name != 'boost':\n",
    "         continue\n",
    "    print(pkg_info.name)\n",
    "    #keep_packages, skip_packages = pkg_info.search_packages()\n",
    "    pkg_info.cleanup_skipped_packages()\n",
    "    print(\"\\n\")"
   ]
  },
  {
   "cell_type": "markdown",
   "id": "0c4b7066",
   "metadata": {},
   "source": [
    "# Upload to NREL"
   ]
  },
  {
   "cell_type": "code",
   "execution_count": null,
   "id": "7a8373b4",
   "metadata": {},
   "outputs": [],
   "source": [
    "for pkg_info in pkg_infos:\n",
    "    if pkg_info.name == 'openstudio_ruby':\n",
    "        continue\n",
    "    print(pkg_info.name)\n",
    "    #keep_packages, skip_packages = pkg_info.search_packages()\n",
    "    pkg_info.upload_to_nrel()\n",
    "    print(\"\\n\")"
   ]
  },
  {
   "cell_type": "markdown",
   "id": "c9a33046",
   "metadata": {},
   "source": [
    "# In one go"
   ]
  },
  {
   "cell_type": "raw",
   "id": "57760125",
   "metadata": {},
   "source": [
    "CONAN_CACHE = Path('/Users/julien/.conan/bump_deps/')\n",
    "\n",
    "pkg_infos = []\n",
    "for p in CONAN_CACHE.glob('**/metadata.json'):\n",
    "    pkg_infos.append(PkgInfo.from_metadata(p))\n",
    "pkg_infos.sort(key=lambda p: p.name)\n",
    "\n",
    "for pkg_info in pkg_infos:\n",
    "    if pkg_info.name == 'openstudio_ruby':\n",
    "        continue\n",
    "    print(pkg_info.name)\n",
    "    pkg_info.download_all()\n",
    "    pkg_info.cleanup_skipped_packages()\n",
    "    pkg_info.upload_to_nrel()\n",
    "    print(\"\\n\")"
   ]
  }
 ],
 "metadata": {
  "kernelspec": {
   "display_name": "Python 3 (ipykernel)",
   "language": "python",
   "name": "python3"
  },
  "language_info": {
   "codemirror_mode": {
    "name": "ipython",
    "version": 3
   },
   "file_extension": ".py",
   "mimetype": "text/x-python",
   "name": "python",
   "nbconvert_exporter": "python",
   "pygments_lexer": "ipython3",
   "version": "3.9.9"
  },
  "toc": {
   "base_numbering": 1,
   "nav_menu": {},
   "number_sections": true,
   "sideBar": true,
   "skip_h1_title": false,
   "title_cell": "Table of Contents",
   "title_sidebar": "Contents",
   "toc_cell": false,
   "toc_position": {},
   "toc_section_display": true,
   "toc_window_display": true
  }
 },
 "nbformat": 4,
 "nbformat_minor": 5
}

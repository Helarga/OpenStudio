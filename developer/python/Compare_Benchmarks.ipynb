{
 "cells": [
  {
   "cell_type": "code",
   "execution_count": null,
   "id": "95eb90ae",
   "metadata": {},
   "outputs": [],
   "source": [
    "from pathlib import Path\n",
    "import pandas as pd\n",
    "import numpy as np\n",
    "import glob as gb"
   ]
  },
  {
   "cell_type": "code",
   "execution_count": null,
   "id": "00da2ad7",
   "metadata": {},
   "outputs": [],
   "source": [
    "PERF_DIR = Path('/Users/julien/Software/Others/OS-build-release/results/')"
   ]
  },
  {
   "cell_type": "code",
   "execution_count": null,
   "id": "34ae2a1b",
   "metadata": {},
   "outputs": [],
   "source": [
    "csvs = gb.glob(str(PERF_DIR / '*.csv'))"
   ]
  },
  {
   "cell_type": "code",
   "execution_count": null,
   "id": "421a5c23",
   "metadata": {},
   "outputs": [],
   "source": [
    "csv = csvs[0]"
   ]
  },
  {
   "cell_type": "raw",
   "id": "adb34632",
   "metadata": {},
   "source": [
    "csvs"
   ]
  },
  {
   "cell_type": "code",
   "execution_count": null,
   "id": "11286b85",
   "metadata": {},
   "outputs": [],
   "source": [
    "def find_skip_rows(results_file: Path) -> int:\n",
    "    \"\"\"\n",
    "    Open the result benchmark, and locate the actual start of the timings\n",
    "\n",
    "    Returns:\n",
    "    --------\n",
    "    skiprows (int): the number of lines to skip when read_csv is called\n",
    "    \"\"\"\n",
    "    skiprows = 0\n",
    "    search_str = 'name,iterations,'\n",
    "    with open(results_file, 'r') as f:\n",
    "        content = f.read()\n",
    "    if search_str not in content:\n",
    "        return None\n",
    "    lines = content.splitlines()\n",
    "    while (search_str not in lines[skiprows]):\n",
    "        skiprows += 1\n",
    "\n",
    "    return skiprows"
   ]
  },
  {
   "cell_type": "code",
   "execution_count": null,
   "id": "52c175ce",
   "metadata": {},
   "outputs": [],
   "source": [
    "def read_bench_results(results_file: Path) -> pd.DataFrame:\n",
    "    skiprows = find_skip_rows(csv)\n",
    "    if skiprows is None:\n",
    "        return None\n",
    "    df = pd.read_csv(csv, skiprows=skiprows, index_col=0)\n",
    "    df = df.loc[df['iterations'].notnull()]\n",
    "    # Convert everything in ms\n",
    "    for col in ['real_time', 'cpu_time']:\n",
    "        df[col] = (df[[col, 'time_unit']].apply(\n",
    "            lambda row: pd.to_timedelta(arg=row[0], unit=row[1]), axis=1)\n",
    "                   .dt.total_seconds() * 1e3)\n",
    "        \n",
    "    return df"
   ]
  },
  {
   "cell_type": "code",
   "execution_count": null,
   "id": "0ead991f",
   "metadata": {},
   "outputs": [],
   "source": [
    "df_dict = {}\n",
    "dfs = []\n",
    "for csv in csvs:\n",
    "    fname = Path(csv).name\n",
    "    #if 'Model_ModelObjects' in fname:\n",
    "    #    fname = 'Model_ModelObjects'\n",
    "    prefix  = Path(csv).name.split('_')[0]\n",
    "    test = '_'.join(fname.split('_')[1:-1])\n",
    "    \n",
    "    df = read_bench_results(csv)\n",
    "    if df is None:\n",
    "        continue\n",
    "    df['test_file'] = test\n",
    "    df['prefix'] = prefix\n",
    "    dfs.append(df)"
   ]
  },
  {
   "cell_type": "code",
   "execution_count": null,
   "id": "5efaf28f",
   "metadata": {},
   "outputs": [],
   "source": [
    "df = pd.concat(dfs, axis=0)"
   ]
  },
  {
   "cell_type": "code",
   "execution_count": null,
   "id": "a4db3123",
   "metadata": {},
   "outputs": [],
   "source": [
    "df.set_index(['prefix', 'test_file'], append=True, inplace=True)"
   ]
  },
  {
   "cell_type": "code",
   "execution_count": null,
   "id": "2c0832bd",
   "metadata": {},
   "outputs": [],
   "source": [
    "df_real = df['real_time'].unstack('prefix')"
   ]
  },
  {
   "cell_type": "code",
   "execution_count": null,
   "id": "618b94d4",
   "metadata": {},
   "outputs": [],
   "source": [
    "df_real.loc[[x for x in df_real.index if 'VT' in x[0]]]"
   ]
  },
  {
   "cell_type": "code",
   "execution_count": null,
   "id": "8dea4877",
   "metadata": {},
   "outputs": [],
   "source": [
    "df_real[df_real['move1'].isnull()].index.tolist()"
   ]
  },
  {
   "cell_type": "code",
   "execution_count": null,
   "id": "f9d1e8b1",
   "metadata": {},
   "outputs": [],
   "source": [
    "df_sum = df_real[df_real['move1'].notnull()].groupby('test_file').sum()\n",
    "df_sum['orim'] = df_sum[['ori', 'ori2']].mean(axis=1)"
   ]
  },
  {
   "cell_type": "code",
   "execution_count": null,
   "id": "8abd6fa7",
   "metadata": {},
   "outputs": [],
   "source": [
    "df_sum[['orim', 'move1']].groupby('test_file').sum().pct_change(axis=1).iloc[:, [-1]].style.format('{:.2%}')"
   ]
  },
  {
   "cell_type": "code",
   "execution_count": null,
   "id": "d2f4f6c3",
   "metadata": {},
   "outputs": [],
   "source": [
    "df_sum['move1'].subtract(df_sum[['ori', 'ori2']].mean(axis=1))"
   ]
  },
  {
   "cell_type": "code",
   "execution_count": null,
   "id": "9cf46d98",
   "metadata": {},
   "outputs": [],
   "source": [
    "df_real[['ori', 'move1']].groupby('test_file').sum().pct_change(axis=1).iloc[:, [-1]].style.format('{:.2%}')"
   ]
  },
  {
   "cell_type": "code",
   "execution_count": null,
   "id": "c8da6c98",
   "metadata": {},
   "outputs": [],
   "source": []
  },
  {
   "cell_type": "code",
   "execution_count": null,
   "id": "34dc7261",
   "metadata": {
    "scrolled": false
   },
   "outputs": [],
   "source": [
    "df_real.plot(figsize=(16, 9))"
   ]
  },
  {
   "cell_type": "code",
   "execution_count": null,
   "id": "18393c67",
   "metadata": {},
   "outputs": [],
   "source": []
  },
  {
   "cell_type": "code",
   "execution_count": null,
   "id": "237730ed",
   "metadata": {},
   "outputs": [],
   "source": [
    "df_real['orim'] = df_real[['ori', 'ori2']].mean(axis=1)\n",
    "df_real['newm'] = df_real[['new'\n",
    "                           #, 'new2'\n",
    "                          ]].mean(axis=1)"
   ]
  },
  {
   "cell_type": "code",
   "execution_count": null,
   "id": "2e147ab2",
   "metadata": {},
   "outputs": [],
   "source": [
    "(df_real[['orim', 'newm']]).pct_change(axis=1)['newm'].sort_values().plot(kind='barh', figsize=(16, 36))"
   ]
  },
  {
   "cell_type": "code",
   "execution_count": null,
   "id": "58f7ab17",
   "metadata": {},
   "outputs": [],
   "source": [
    "(df_real['newm'] - df_real['orim']).sort_values().plot(kind='barh', figsize=(16, 9))"
   ]
  },
  {
   "cell_type": "code",
   "execution_count": null,
   "id": "2b9b0d19",
   "metadata": {},
   "outputs": [],
   "source": []
  },
  {
   "cell_type": "code",
   "execution_count": null,
   "id": "a9f0d9f7",
   "metadata": {},
   "outputs": [],
   "source": [
    "df_real[['orim', 'newm']].plot(kind='barh', figsize=(16, 36))"
   ]
  },
  {
   "cell_type": "code",
   "execution_count": null,
   "id": "7bd8b9e7",
   "metadata": {},
   "outputs": [],
   "source": [
    "df_real[['orim', 'newm']].mean()"
   ]
  },
  {
   "cell_type": "code",
   "execution_count": null,
   "id": "73424f07",
   "metadata": {},
   "outputs": [],
   "source": []
  }
 ],
 "metadata": {
  "kernelspec": {
   "display_name": "Python 3 (ipykernel)",
   "language": "python",
   "name": "python3"
  },
  "language_info": {
   "codemirror_mode": {
    "name": "ipython",
    "version": 3
   },
   "file_extension": ".py",
   "mimetype": "text/x-python",
   "name": "python",
   "nbconvert_exporter": "python",
   "pygments_lexer": "ipython3",
   "version": "3.9.9"
  },
  "toc": {
   "base_numbering": 1,
   "nav_menu": {},
   "number_sections": true,
   "sideBar": true,
   "skip_h1_title": false,
   "title_cell": "Table of Contents",
   "title_sidebar": "Contents",
   "toc_cell": false,
   "toc_position": {},
   "toc_section_display": true,
   "toc_window_display": false
  }
 },
 "nbformat": 4,
 "nbformat_minor": 5
}

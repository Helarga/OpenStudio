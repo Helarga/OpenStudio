{
 "cells": [
  {
   "cell_type": "code",
   "execution_count": null,
   "id": "74fd7911",
   "metadata": {},
   "outputs": [],
   "source": [
    "from pathlib import Path\n",
    "import glob as gb\n",
    "import re"
   ]
  },
  {
   "cell_type": "code",
   "execution_count": null,
   "id": "ad45ee2c",
   "metadata": {},
   "outputs": [],
   "source": [
    "ROOT_DIR = Path('.').absolute().parent.parent\n",
    "ROOT_DIR"
   ]
  },
  {
   "cell_type": "markdown",
   "id": "2cc09038",
   "metadata": {},
   "source": [
    "# Initialize vertices directly"
   ]
  },
  {
   "cell_type": "code",
   "execution_count": null,
   "id": "91c8926f",
   "metadata": {},
   "outputs": [],
   "source": [
    "cpp_files = gb.glob(str(ROOT_DIR / 'src' / '**' / '*.cpp'), recursive=True)"
   ]
  },
  {
   "cell_type": "code",
   "execution_count": null,
   "id": "7e49bba9",
   "metadata": {},
   "outputs": [],
   "source": [
    "#cpp_files = [ '/Users/julien/Software/Others/OpenStudio/src/model/test/SubSurface_GTest.cpp',]"
   ]
  },
  {
   "cell_type": "code",
   "execution_count": null,
   "id": "4a29808c",
   "metadata": {},
   "outputs": [],
   "source": [
    "RE_VERTICES = re.compile(r'^(\\s*)(?:std::vector<Point3d>|Point3dVector) (\\w+);')\n",
    "RE_VERTICES_CLEAR = re.compile(r'^(\\s*)(\\w+).clear\\(\\);')\n",
    "RE_PUSHBACK = re.compile(r'\\w+.push_back\\(Point3d\\(\\s*(-?\\d+(?:\\.\\d+)?),\\s*(-?\\d+(?:\\.\\d+)?),\\s*(-?\\d+(?:\\.\\d+)?)\\)\\);')\n",
    "RE_PUSHBACK = re.compile(r'\\w+.push_back\\(Point3d\\(\\s*([^,]+),\\s*([^,]+),\\s*([^,]+)\\)\\);')"
   ]
  },
  {
   "cell_type": "code",
   "execution_count": null,
   "id": "3e8f80c4",
   "metadata": {},
   "outputs": [],
   "source": [
    "for cpp_file in cpp_files:\n",
    "    with open(cpp_file, 'r') as f:\n",
    "        content = f.read()\n",
    "    lines = content.splitlines()\n",
    "    done_lines = []\n",
    "    new_lines = []\n",
    "    anyDone = False\n",
    "    for i, line in enumerate(lines):\n",
    "        if i in done_lines:\n",
    "            continue\n",
    "        done_lines.append(i)\n",
    "        if (m11 := RE_VERTICES.search(line)) or (m12 := RE_VERTICES_CLEAR.search(line)):\n",
    "            if m11:\n",
    "                spacing = m11.groups()[0]\n",
    "            else:\n",
    "                spacing = m12.groups()[0]\n",
    "            print(i, line)\n",
    "            j = i+1\n",
    "            pts = []\n",
    "            while (m2 := RE_PUSHBACK.search(lines[j])):\n",
    "                anyDone = True\n",
    "                pts.append(m2.groups())\n",
    "                done_lines.append(j)\n",
    "                j += 1\n",
    "            if pts:\n",
    "                if m11:\n",
    "                    new_lines.append(line.replace(';', ' {'))\n",
    "                else:\n",
    "                    new_lines.append(line.replace('.clear();', ' = {'))\n",
    "                for k, pt in enumerate(pts):\n",
    "                    new_line = spacing + '  {{{}, {}, {}}}'.format(*pt)\n",
    "                    # if k != (len(pts) - 1):\n",
    "                    new_line += ','\n",
    "                    new_lines.append(new_line)\n",
    "\n",
    "                new_lines.append(spacing + '};')\n",
    "            else:\n",
    "                for k in range(i, j):\n",
    "                    new_lines.append(lines[i])\n",
    "        else:\n",
    "            new_lines.append(line)\n",
    "        \n",
    "    if anyDone:\n",
    "        with open(cpp_file, 'w') as f:\n",
    "            f.write(\"\\n\".join(new_lines) + '\\n')\n",
    "            "
   ]
  }
 ],
 "metadata": {
  "kernelspec": {
   "display_name": "Python 3 (ipykernel)",
   "language": "python",
   "name": "python3"
  },
  "language_info": {
   "codemirror_mode": {
    "name": "ipython",
    "version": 3
   },
   "file_extension": ".py",
   "mimetype": "text/x-python",
   "name": "python",
   "nbconvert_exporter": "python",
   "pygments_lexer": "ipython3",
   "version": "3.9.9"
  }
 },
 "nbformat": 4,
 "nbformat_minor": 5
}

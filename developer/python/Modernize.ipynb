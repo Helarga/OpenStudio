{
 "cells": [
  {
   "cell_type": "code",
   "execution_count": null,
   "id": "74fd7911",
   "metadata": {},
   "outputs": [],
   "source": [
    "from pathlib import Path\n",
    "import glob as gb\n",
    "import re\n",
    "import os\n",
    "from copy import deepcopy\n",
    "import warnings"
   ]
  },
  {
   "cell_type": "code",
   "execution_count": null,
   "id": "ad45ee2c",
   "metadata": {},
   "outputs": [],
   "source": [
    "ROOT_DIR = Path('.').absolute().parent.parent\n",
    "ROOT_DIR"
   ]
  },
  {
   "cell_type": "code",
   "execution_count": null,
   "id": "cfa316fa",
   "metadata": {},
   "outputs": [],
   "source": [
    "ROOT_DIR = Path('/Users/julien/Software/Others/OpenStudio')"
   ]
  },
  {
   "cell_type": "code",
   "execution_count": null,
   "id": "91c8926f",
   "metadata": {},
   "outputs": [],
   "source": [
    "#cpp_files = gb.glob(str(ROOT_DIR / 'src' / '**' / '*.cpp'), recursive=True)\n",
    "cpp_files = list(ROOT_DIR.glob('src/**/*.cpp'))"
   ]
  },
  {
   "cell_type": "markdown",
   "id": "2cc09038",
   "metadata": {},
   "source": [
    "# Initialize vertices directly"
   ]
  },
  {
   "cell_type": "code",
   "execution_count": null,
   "id": "7e49bba9",
   "metadata": {},
   "outputs": [],
   "source": [
    "#cpp_files = [ '/Users/julien/Software/Others/OpenStudio/src/model/test/SubSurface_GTest.cpp',]"
   ]
  },
  {
   "cell_type": "code",
   "execution_count": null,
   "id": "4a29808c",
   "metadata": {},
   "outputs": [],
   "source": [
    "RE_VERTICES = re.compile(r'^(\\s*)(?:std::vector<Point3d>|Point3dVector) (\\w+);')\n",
    "RE_VERTICES_CLEAR = re.compile(r'^(\\s*)(\\w+).clear\\(\\);')\n",
    "RE_PUSHBACK = re.compile(r'\\w+.push_back\\(Point3d\\(\\s*(-?\\d+(?:\\.\\d+)?),\\s*(-?\\d+(?:\\.\\d+)?),\\s*(-?\\d+(?:\\.\\d+)?)\\)\\);')\n",
    "RE_PUSHBACK = re.compile(r'\\w+.push_back\\(Point3d\\(\\s*([^,]+),\\s*([^,]+),\\s*([^,]+)\\)\\);')"
   ]
  },
  {
   "cell_type": "code",
   "execution_count": null,
   "id": "3e8f80c4",
   "metadata": {},
   "outputs": [],
   "source": [
    "for cpp_file in cpp_files:\n",
    "    with open(cpp_file, 'r') as f:\n",
    "        content = f.read()\n",
    "    lines = content.splitlines()\n",
    "    done_lines = []\n",
    "    new_lines = []\n",
    "    anyDone = False\n",
    "    for i, line in enumerate(lines):\n",
    "        if i in done_lines:\n",
    "            continue\n",
    "        done_lines.append(i)\n",
    "        if (m11 := RE_VERTICES.search(line)) or (m12 := RE_VERTICES_CLEAR.search(line)):\n",
    "            if m11:\n",
    "                spacing = m11.groups()[0]\n",
    "            else:\n",
    "                spacing = m12.groups()[0]\n",
    "            print(i, line)\n",
    "            j = i+1\n",
    "            pts = []\n",
    "            while (m2 := RE_PUSHBACK.search(lines[j])):\n",
    "                anyDone = True\n",
    "                pts.append(m2.groups())\n",
    "                done_lines.append(j)\n",
    "                j += 1\n",
    "            if pts:\n",
    "                if m11:\n",
    "                    new_lines.append(line.replace(';', ' {'))\n",
    "                else:\n",
    "                    new_lines.append(line.replace('.clear();', ' = {'))\n",
    "                for k, pt in enumerate(pts):\n",
    "                    new_line = spacing + '  {{{}, {}, {}}}'.format(*pt)\n",
    "                    # if k != (len(pts) - 1):\n",
    "                    new_line += ','\n",
    "                    new_lines.append(new_line)\n",
    "\n",
    "                new_lines.append(spacing + '};')\n",
    "            else:\n",
    "                for k in range(i, j):\n",
    "                    new_lines.append(lines[i])\n",
    "        else:\n",
    "            new_lines.append(line)\n",
    "        \n",
    "    if anyDone:\n",
    "        with open(cpp_file, 'w') as f:\n",
    "            f.write(\"\\n\".join(new_lines) + '\\n')\n",
    "            "
   ]
  },
  {
   "cell_type": "markdown",
   "id": "3d19716a",
   "metadata": {},
   "source": [
    "# std::string by const ref"
   ]
  },
  {
   "cell_type": "code",
   "execution_count": null,
   "id": "1ab92714",
   "metadata": {},
   "outputs": [],
   "source": [
    "p_method_name = re.compile(r'(\\s*)bool\\s+(.*?_Impl::)(set.*?)(\\(\\s*(std::string).*)')\n",
    "\n",
    "all_dict = {}\n",
    "changed_dict = {}\n",
    "\n",
    "\n",
    "# Debug\n",
    "n_tot = 0\n",
    "\n",
    "for file in cpp_files:\n",
    "    \n",
    "    # Check number of method changed for consistency between cpp / hpp/ Impl\n",
    "    # Stores the actual line of function names for checking\n",
    "    cpp_impl_methods = []\n",
    "    \n",
    "    class_name = os.path.splitext(os.path.basename(file))[0]\n",
    "    with open(file, 'r') as f:\n",
    "        ori_lines = f.read().splitlines()\n",
    "\n",
    "    lines = deepcopy(ori_lines)\n",
    "    # Might as well strip the trailing (right) whitespace too\n",
    "    lines = [x.rstrip() for x in lines]\n",
    "    \n",
    "    found_lines = []\n",
    "    for i, line in enumerate(lines):\n",
    "        # Check that the method name is setXXX\n",
    "        m3 = p_method_name.match(lines[i])\n",
    "        \n",
    "        if m3:\n",
    "            method_name = m3.groups()[2]\n",
    "            # print(i, m3.groups())\n",
    "            # Go until the end of the function\n",
    "            lines[i] = \"{}bool {}{}{}\".format(m3.groups()[0],\n",
    "                                              m3.groups()[1],\n",
    "                                              m3.groups()[2],\n",
    "                                              m3.groups()[3].replace('std::string', 'const std::string&'))\n",
    "            \n",
    "            found_lines.append(i)\n",
    "            cpp_impl_methods.append(line)\n",
    "            if not class_name in changed_dict.keys():\n",
    "                changed_dict[class_name] = [method_name]\n",
    "            else:\n",
    "                changed_dict[class_name].append(method_name)\n",
    "\n",
    "            \n",
    "    if found_lines:\n",
    "        \n",
    "        # Make the change to the Public implemention in the cpp file\n",
    "        cpp_public_methods = []\n",
    "        p_getimpl = re.compile(r'(\\s*)(getImpl.*)')\n",
    "\n",
    "        for method_name in changed_dict[class_name]:\n",
    "            p_public = re.compile(r'(\\s*)bool\\s*({}::{}\\s*\\(\\s*(std::string).*)'.format(class_name, method_name))\n",
    "            for i, line in enumerate(lines):\n",
    "                m = p_public.match(line)\n",
    "                if m:\n",
    "                    found_lines.append(i)\n",
    "                    lines[i] = lines[i].replace('std::string', 'const std::string&')\n",
    "                    cpp_public_methods.append(line)\n",
    "\n",
    "                        \n",
    "        all_dict[file] = {'ori': ori_lines, 'new': lines}\n",
    "        # print('{}: {}'.format(file, found_lines))\n",
    "        # if len(found_lines)%2 != 0:\n",
    "        #     print(\"Something probably went wrong\")\n",
    "            \n",
    "        # Write the cpp file\n",
    "        with open(file, 'w') as f:\n",
    "            f.write(\"\\n\".join(lines) + \"\\n\")\n",
    "            \n",
    "        # Change it in the hpp files\n",
    "        \n",
    "        file_hpp = os.path.join(base_dir, '{}.hpp'.format(class_name))\n",
    "        file_impl_hpp = os.path.join(base_dir, '{}_Impl.hpp'.format(class_name))\n",
    "        \n",
    "        hpp_impl_methods = []\n",
    "        hpp_public_methods = []\n",
    "        \n",
    "        for file_header in [file_hpp, file_impl_hpp]:\n",
    "            write_needed = False\n",
    "            with open(file_header, 'r') as f:\n",
    "                lines = f.read().splitlines()\n",
    "            for method_name in changed_dict[class_name]:\n",
    "                p = re.compile('(\\s*)bool\\s*({}\\s*\\(\\s*(std::string).*)'.format(method_name))\n",
    "\n",
    "                # Might as well strip the trailing (right) whitespace too\n",
    "                lines = [x.rstrip() for x in lines]\n",
    "                is_found = False\n",
    "                for i, line in enumerate(lines):\n",
    "                    m = p.match(line)\n",
    "                    if m:\n",
    "                        is_found = True\n",
    "                        write_needed = True\n",
    "                        lines[i] = lines[i].replace('std::string', 'const std::string&')\n",
    "                        if file_header == file_hpp:\n",
    "                            hpp_public_methods.append(line)\n",
    "                        else:\n",
    "                            hpp_impl_methods.append(line)\n",
    "                        n_tot += 1\n",
    "                if not is_found:\n",
    "                    print('{}: {} not found'.format(file, method_name))\n",
    "            \n",
    "                    \n",
    "            if write_needed:\n",
    "                with open(file_header, 'w') as f:\n",
    "                    f.write(\"\\n\".join(lines) + \"\\n\")\n",
    "                    \n",
    "                    \n",
    "        if len(cpp_impl_methods) != len(hpp_impl_methods):\n",
    "            warnings.warn(\"Not maching for {} in Impl: Cpp={}, Hpp=\"\n",
    "                          \"{}\".format(file, cpp_impl_methods,\n",
    "                                      hpp_impl_methods))\n",
    "        if len(cpp_public_methods) != len(hpp_impl_methods):\n",
    "            warnings.warn(\"Not maching for {} in Public: Cpp={}, Hpp=\"\n",
    "                          \"{}\".format(file, cpp_public_methods,\n",
    "                                      hpp_impl_methods))"
   ]
  },
  {
   "cell_type": "markdown",
   "id": "692cd101",
   "metadata": {},
   "source": [
    "# Destructors"
   ]
  },
  {
   "cell_type": "code",
   "execution_count": null,
   "id": "42d72d2d",
   "metadata": {},
   "outputs": [],
   "source": [
    "impl_hpp_files = list(ROOT_DIR.glob('src/**/*_Impl.hpp'))\n",
    "hpp_files = list(ROOT_DIR.glob('src/**/*.hpp'))\n",
    "print(len(impl_hpp_files), len(hpp_files))\n",
    "hpp_files = list(set(hpp_files) - set(impl_hpp_files))\n",
    "print(len(impl_hpp_files), len(hpp_files))"
   ]
  },
  {
   "cell_type": "code",
   "execution_count": null,
   "id": "c3495383",
   "metadata": {},
   "outputs": [],
   "source": [
    "re_destructors = re.compile(r'~(\\w+)\\(\\)')\n",
    "re_destructor_cpp_non_trivial = re.compile(r'(\\w+)::~\\1()\\(\\)\\s*{\\s*(\\w+.*)\\s*}')\n",
    "re_destructor_cpp_trivial = re.compile(r'(\\w+)::~\\1()\\(\\)\\s*{\\s*}')"
   ]
  },
  {
   "cell_type": "markdown",
   "id": "44b39bbc",
   "metadata": {},
   "source": [
    "## Find non trivial destructors"
   ]
  },
  {
   "cell_type": "code",
   "execution_count": null,
   "id": "351a45ad",
   "metadata": {},
   "outputs": [],
   "source": [
    "for cpp_file in cpp_files:\n",
    "    class_name = cpp_file.stem\n",
    "    with open(cpp_file, 'r') as f:\n",
    "        content = f.read()\n",
    "        \n",
    "    for x in re_destructor_cpp_non_trivial.finditer(content):\n",
    "        print(f'{cpp_file}: {x.groups()}')"
   ]
  },
  {
   "cell_type": "markdown",
   "id": "0b7629ae",
   "metadata": {},
   "source": [
    "## Find trivial destructors defined in cpp file and move them to = default in hpp"
   ]
  },
  {
   "cell_type": "code",
   "execution_count": null,
   "id": "647ad55d",
   "metadata": {},
   "outputs": [],
   "source": [
    "re_destructor_cpp_trivial = re.compile(r'^[\\t ]*(\\w+)::~\\1()\\(\\)\\s*{\\s*}\\s*?$[\\r\\n]', re.MULTILINE)"
   ]
  },
  {
   "cell_type": "code",
   "execution_count": null,
   "id": "1f38b22e",
   "metadata": {
    "scrolled": false
   },
   "outputs": [],
   "source": [
    "for cpp_file in cpp_files:\n",
    "#for cpp_file in [Path('/Users/julien/Software/Others/OpenStudio/src/airflow/contam/PrjAirflowElements.cpp')]:\n",
    "    class_name = cpp_file.stem\n",
    "    with open(cpp_file, 'r') as f:\n",
    "        content = f.read()\n",
    "    found_dtors = []\n",
    "    for x in re_destructor_cpp_trivial.finditer(content):\n",
    "        found_dtors.append(x.groups()[0])\n",
    "    if found_dtors:\n",
    "        #print(cpp_file, found_dtors)\n",
    "        with open(cpp_file, 'w') as f:\n",
    "            f.write(re_destructor_cpp_trivial.sub('', content))\n",
    "    \n",
    "        hpp_file = cpp_file.with_suffix('.hpp')\n",
    "        impl_file = cpp_file.with_stem(cpp_file.stem + \"_Impl\").with_suffix('.hpp')\n",
    "        impl_dtors = [x for x in found_dtors if '_Impl' in x]\n",
    "        dtors = list(set(found_dtors) - set(impl_dtors))\n",
    "        if impl_dtors:\n",
    "            with open(impl_file, 'r') as f:\n",
    "                content = f.read()\n",
    "            lines = content.splitlines()\n",
    "            new_lines = []\n",
    "            for i, line in enumerate(lines):\n",
    "                found = False\n",
    "                for dtor in impl_dtors:\n",
    "                    if f'~{dtor}();' in line:\n",
    "                        found = True\n",
    "                        new_lines.append(line.replace(';', ' = default;'))\n",
    "                if not found:\n",
    "                    new_lines.append(line)      \n",
    "            with open(impl_file, 'w') as f:\n",
    "                f.write('\\n'.join(new_lines) + '\\n')\n",
    "                \n",
    "        if dtors:       \n",
    "            with open(hpp_file, 'r') as f:\n",
    "                content = f.read()\n",
    "            lines = content.splitlines()\n",
    "            new_lines = []\n",
    "            for i, line in enumerate(lines):\n",
    "                found = False\n",
    "                for dtor in dtors:\n",
    "                    if f'~{dtor}();' in line:\n",
    "                        found = True\n",
    "                        new_lines.append(line.replace(';', ' = default;'))\n",
    "                if not found:\n",
    "                    new_lines.append(line)\n",
    "            with open(hpp_file, 'w') as f:\n",
    "                f.write('\\n'.join(new_lines) + '\\n')"
   ]
  },
  {
   "cell_type": "markdown",
   "id": "dfaea11c",
   "metadata": {},
   "source": [
    "## Replace all trivial dtors in hpp/Impl.hpp files by = default"
   ]
  },
  {
   "cell_type": "code",
   "execution_count": null,
   "id": "1e61d1ae",
   "metadata": {},
   "outputs": [],
   "source": [
    "hpp_files = list(ROOT_DIR.glob('src/**/*.hpp'))\n",
    "re_destructor_hpp_trivial = re.compile(r'^([\\t ]*(?:virtual *)?~\\w+\\(\\))(\\s*?{\\s*?}\\s*?;*)(.*?)$', re.MULTILINE)\n",
    "\n",
    "for hpp_file in hpp_files:\n",
    "    with open(hpp_file, 'r') as f:\n",
    "        content = f.read()\n",
    "        \n",
    "\n",
    "\n",
    "    found_dtors = []\n",
    "    for x in re_destructor_hpp_trivial.finditer(content):\n",
    "        #print(x.groups())\n",
    "        found_dtors.append(x.groups()[1])\n",
    "    if found_dtors:\n",
    "        #print(hpp_file, found_dtors)\n",
    "        with open(hpp_file, 'w') as f:\n",
    "            f.write(re_destructor_hpp_trivial.sub(r'\\1 = default;\\3', content))"
   ]
  }
 ],
 "metadata": {
  "kernelspec": {
   "display_name": "Python 3 (ipykernel)",
   "language": "python",
   "name": "python3"
  },
  "language_info": {
   "codemirror_mode": {
    "name": "ipython",
    "version": 3
   },
   "file_extension": ".py",
   "mimetype": "text/x-python",
   "name": "python",
   "nbconvert_exporter": "python",
   "pygments_lexer": "ipython3",
   "version": "3.9.9"
  },
  "toc": {
   "base_numbering": 1,
   "nav_menu": {},
   "number_sections": true,
   "sideBar": true,
   "skip_h1_title": false,
   "title_cell": "Table of Contents",
   "title_sidebar": "Contents",
   "toc_cell": false,
   "toc_position": {},
   "toc_section_display": true,
   "toc_window_display": false
  }
 },
 "nbformat": 4,
 "nbformat_minor": 5
}
